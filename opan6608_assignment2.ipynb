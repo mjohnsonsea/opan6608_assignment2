{
 "cells": [
  {
   "cell_type": "markdown",
   "id": "2b4f7cbf-e683-468a-946f-078ee0ca45a1",
   "metadata": {},
   "source": [
    "# Assignment 2\n",
    "## Mike Johnson\n",
    "### January 27, 2025"
   ]
  },
  {
   "cell_type": "markdown",
   "id": "5bdaa439-cac0-4476-ad93-729de0bf2d40",
   "metadata": {},
   "source": [
    "****"
   ]
  },
  {
   "cell_type": "markdown",
   "id": "2aeb3754-2670-4587-9266-666f5b797147",
   "metadata": {},
   "source": [
    "#### 1. The incoming data will be loaded in everyday at 8:00 PM EST. What kind of data processing is this considered?"
   ]
  },
  {
   "cell_type": "markdown",
   "id": "24ed510a-8305-4faa-87d6-73c9bcacd418",
   "metadata": {},
   "source": [
    "This kind data processing is referred to as **batch processing**."
   ]
  },
  {
   "cell_type": "markdown",
   "id": "3e54dfa8-94a7-4180-a2f6-2437fb78b9b2",
   "metadata": {},
   "source": [
    "****"
   ]
  },
  {
   "cell_type": "markdown",
   "id": "bdffe115-e935-499b-a64c-9fa6e4e432ae",
   "metadata": {},
   "source": [
    "#### 2. The data will be in tabular format with rows and columns. What kind of database should the company use to store the data? What are some common database systems that could be used to store the data? What programming language will be used to interact with the data and database?"
   ]
  },
  {
   "cell_type": "markdown",
   "id": "6269c029-b51f-458b-894c-39c69604295e",
   "metadata": {},
   "source": [
    "**What kind of database should the company use to store the data?**<br>\n",
    "The company should use a **relational database** because they are ideal for structured data."
   ]
  },
  {
   "cell_type": "markdown",
   "id": "4edf4065-036c-426e-ae57-27f311e3442a",
   "metadata": {},
   "source": [
    "**What are some common database systems that could be used to store the data?**<br>\n",
    "* SQL Server\n",
    "* PostgreSQL\n",
    "* MySQL\n",
    "* SQLite"
   ]
  },
  {
   "cell_type": "markdown",
   "id": "e7a1bded-1df1-494b-968e-2bc391748140",
   "metadata": {},
   "source": [
    "**What programming language will be used to interact with the data and database?** <br>\n",
    "The programming language to interact with the data and database is **Structured Query Language (SQL)**."
   ]
  },
  {
   "cell_type": "markdown",
   "id": "ddb0817e-7e04-4097-a366-0ee9def0565d",
   "metadata": {},
   "source": [
    "****"
   ]
  },
  {
   "cell_type": "markdown",
   "id": "831943bd-493e-4b9f-9289-0b055d4e8db4",
   "metadata": {},
   "source": [
    "#### 3. Currently, the incoming data only consists of tabular, related data. However, in the future, the management team is considering collecting data in JSON format. What kind of database should be used to store this type of data? What are the benefits of storing data in this way? What are the drawbacks?"
   ]
  },
  {
   "cell_type": "markdown",
   "id": "e90434df-2a53-4f13-96bc-b9828e6e7c4f",
   "metadata": {},
   "source": [
    "**What kind of database should be used to store this type of data?** <br>\n",
    "A **Non-relational (NoSQL, not only SQL)** should be used to store the JSON format."
   ]
  },
  {
   "cell_type": "markdown",
   "id": "8148cadf-3e95-4b77-8eac-e4d5e0eea2ed",
   "metadata": {},
   "source": [
    "**What are the benefits of storing data in this way?** <br>\n",
    "* No schema requirements\n",
    "* Flexible storage"
   ]
  },
  {
   "cell_type": "markdown",
   "id": "861728b5-e598-4ad1-8cdc-28b447f334f8",
   "metadata": {},
   "source": [
    "**What are the drawbacks?** <br>\n",
    "* Difficult to access data\n",
    "* Loosely organized"
   ]
  },
  {
   "cell_type": "markdown",
   "id": "c5b00c6b-4850-4495-9a25-42605967ac51",
   "metadata": {},
   "source": [
    "****"
   ]
  },
  {
   "cell_type": "markdown",
   "id": "d2b9ee90-5f18-4664-a3af-57ce7480dea2",
   "metadata": {},
   "source": [
    "#### 4. As you build your relational database, what are three important components to consider? Describe each of these three components and why they are important."
   ]
  },
  {
   "attachments": {},
   "cell_type": "markdown",
   "id": "fa24c181-a227-41f3-aeb5-92f5db64a4b2",
   "metadata": {},
   "source": [
    "* **Tables**: Entities that contain data in rows and columns. Tables are the building blocks of databases and are named after the entity they represent.\n",
    "* **Constraints**: Used to control the relationships between tables and the type of data that can be inserted into a table to preserve data integrity.\n",
    "* **Keys**: Used to specify the relationships between tables. The primary key is the unique identifier in a table. A foreign key is used to link a table to an other table's primary key."
   ]
  },
  {
   "cell_type": "markdown",
   "id": "7651a3a7-9f57-4fe6-965c-318cd830881e",
   "metadata": {},
   "source": [
    "****"
   ]
  },
  {
   "cell_type": "markdown",
   "id": "7668aaff-04b6-4eb3-8cd8-3408878f0bf4",
   "metadata": {},
   "source": [
    "#### 5. Using SQL code in Jupyter notebook, create a SQL database using SQLite in Jupyter notebook and create two tables. The first table should be called “orders” and have the following columns/fields: order ID, item name, price, and customer ID. The second table should be called “customers” and have the following columns/fields: customer ID, signup_year, country, and age.Designate which columns will be primary keys and whether there is a foreign key in one of the tables that links to a primary key in another table. Add SQL constraints to ensure that there are no null values in the signup_year column."
   ]
  },
  {
   "cell_type": "code",
   "execution_count": 1,
   "id": "799aa6dd-eb7b-4cd8-968d-3660e55b68a3",
   "metadata": {},
   "outputs": [],
   "source": [
    "# Load SQL module\n",
    "%load_ext sql"
   ]
  },
  {
   "cell_type": "code",
   "execution_count": 2,
   "id": "ea156641-d913-4d19-8942-eb52f5deab44",
   "metadata": {},
   "outputs": [
    {
     "data": {
      "text/html": [
       "<span style=\"None\">Connecting to &#x27;sqlite:///opan6608_assignment2.db&#x27;</span>"
      ],
      "text/plain": [
       "Connecting to 'sqlite:///opan6608_assignment2.db'"
      ]
     },
     "metadata": {},
     "output_type": "display_data"
    }
   ],
   "source": [
    "# Create to the SQLite database\n",
    "%sql sqlite:///opan6608_assignment2.db"
   ]
  },
  {
   "cell_type": "code",
   "execution_count": 3,
   "id": "578c1add-9515-4438-a82d-a101751e2982",
   "metadata": {},
   "outputs": [
    {
     "data": {
      "text/html": [
       "<span style=\"None\">Running query in &#x27;sqlite:///opan6608_assignment2.db&#x27;</span>"
      ],
      "text/plain": [
       "Running query in 'sqlite:///opan6608_assignment2.db'"
      ]
     },
     "metadata": {},
     "output_type": "display_data"
    },
    {
     "data": {
      "text/html": [
       "<table>\n",
       "    <thead>\n",
       "        <tr>\n",
       "        </tr>\n",
       "    </thead>\n",
       "    <tbody>\n",
       "    </tbody>\n",
       "</table>"
      ],
      "text/plain": [
       "++\n",
       "||\n",
       "++\n",
       "++"
      ]
     },
     "execution_count": 3,
     "metadata": {},
     "output_type": "execute_result"
    }
   ],
   "source": [
    "%%sql\n",
    "\n",
    "--Create customers table\n",
    "CREATE TABLE customers(\n",
    "    customer_id INT PRIMARY KEY,\n",
    "    signup_year INT NOT NULL,\n",
    "    country VARCHAR(20),\n",
    "    age INT);"
   ]
  },
  {
   "cell_type": "code",
   "execution_count": 4,
   "id": "0b58edd9-a8c4-4271-b152-73db1d2bd813",
   "metadata": {},
   "outputs": [
    {
     "data": {
      "text/html": [
       "<span style=\"None\">Running query in &#x27;sqlite:///opan6608_assignment2.db&#x27;</span>"
      ],
      "text/plain": [
       "Running query in 'sqlite:///opan6608_assignment2.db'"
      ]
     },
     "metadata": {},
     "output_type": "display_data"
    },
    {
     "data": {
      "text/html": [
       "<table>\n",
       "    <thead>\n",
       "        <tr>\n",
       "        </tr>\n",
       "    </thead>\n",
       "    <tbody>\n",
       "    </tbody>\n",
       "</table>"
      ],
      "text/plain": [
       "++\n",
       "||\n",
       "++\n",
       "++"
      ]
     },
     "execution_count": 4,
     "metadata": {},
     "output_type": "execute_result"
    }
   ],
   "source": [
    "%%sql\n",
    "    \n",
    "--Create orders table\n",
    "CREATE TABLE orders(\n",
    "    order_id INT PRIMARY KEY,\n",
    "    item_name VARCHAR(20),\n",
    "    price DECIMAL(5, 2),\n",
    "    customer_id INT,\n",
    "    FOREIGN KEY(customer_id) REFERENCES customers(customer_id)\n",
    ");"
   ]
  },
  {
   "cell_type": "markdown",
   "id": "ccc33ecf-e3de-445d-8428-47772b37dd1b",
   "metadata": {},
   "source": [
    "****"
   ]
  },
  {
   "cell_type": "markdown",
   "id": "2f179748-0963-4940-81a7-29ab895dc578",
   "metadata": {},
   "source": [
    "#### 6. Provide a written description of the SQL code you wrote above in Q6 in a way that a non-technical person with no knowledge of SQL could read and understand. Explain why the columns you chose are primary and foreign keys and the importance of keys in relational databases to a colleague who has no knowledge of databases or SQL."
   ]
  },
  {
   "cell_type": "markdown",
   "id": "c50ecf6f-3fba-440a-91f7-bfdae53348bf",
   "metadata": {},
   "source": [
    "**Written Description of SQL Code**: <br>\n",
    "\n",
    "\"customers\" table: \n",
    "\n",
    "* **customer_id**: This is a unique identifier for each customer.\n",
    "* **signup_year**: This column records the year in which the customer signed up. This field cannot be empty.\n",
    "* **country**: This column stores the country where the customer is located.\n",
    "* **age**: This column records the customer's age.\n",
    "\n",
    "\"orders\" table:\n",
    "* **order_id**: This is a unique identifier for each order.\n",
    "* **item_name**: This column stores the name of the item that was ordered.\n",
    "* **price**: This column records the price of the item.\n",
    "* **customer_id**: This column links each order to the customer who made the purchase."
   ]
  },
  {
   "cell_type": "markdown",
   "id": "6a5ce07c-1272-4205-a2c1-25bab78c2265",
   "metadata": {},
   "source": [
    "**Explain why the columns you chose are primary and foreign keys and the importance of keys in relational databases.**<br>\n",
    "\n",
    "Primary and Foreign Keys:\n",
    "* **Primary Key**: A primary key is a unique identifier for each record in a table. This ensures that each entry in the table is unique and can be easily referenced. In the \"customers\" table created, `customer_id` is primary key because it uniquely identifies each customer. In the \"orders\" table, `order_id` is the primary key because it uqniquely identifies each order.\n",
    "* **Foreign Key**: The foreign key is used to link table to other tables' primary key. In the \"orders\" table, `customer_id` is a foreign key that links to `customer_id` in the \"orders\" table. This link allows us to see the information of the customer who placed the order.\n",
    "\n",
    "Keys are important in relational databases because they help organize data, establish relationships between tables, and ensuring data integrity."
   ]
  },
  {
   "cell_type": "markdown",
   "id": "236b0a0c-89d4-45c6-b5e6-2af4fd4d01f2",
   "metadata": {},
   "source": [
    "****"
   ]
  },
  {
   "cell_type": "markdown",
   "id": "fb006287-c05d-40bc-8761-2a7af326686d",
   "metadata": {},
   "source": [
    "#### 7. Insert the following data into the “orders” table."
   ]
  },
  {
   "cell_type": "code",
   "execution_count": 5,
   "id": "c180a37a-39b8-4f57-951e-89c5e4481a5a",
   "metadata": {},
   "outputs": [
    {
     "data": {
      "text/html": [
       "<span style=\"None\">Running query in &#x27;sqlite:///opan6608_assignment2.db&#x27;</span>"
      ],
      "text/plain": [
       "Running query in 'sqlite:///opan6608_assignment2.db'"
      ]
     },
     "metadata": {},
     "output_type": "display_data"
    },
    {
     "data": {
      "text/html": [
       "<span style=\"color: green\">10 rows affected.</span>"
      ],
      "text/plain": [
       "10 rows affected."
      ]
     },
     "metadata": {},
     "output_type": "display_data"
    },
    {
     "data": {
      "text/html": [
       "<table>\n",
       "    <thead>\n",
       "        <tr>\n",
       "        </tr>\n",
       "    </thead>\n",
       "    <tbody>\n",
       "    </tbody>\n",
       "</table>"
      ],
      "text/plain": [
       "++\n",
       "||\n",
       "++\n",
       "++"
      ]
     },
     "execution_count": 5,
     "metadata": {},
     "output_type": "execute_result"
    }
   ],
   "source": [
    "%%sql\n",
    "\n",
    "INSERT INTO orders(order_id, item_name, price, customer_id)\n",
    "VALUES\n",
    "(100, \"Blender\", 45.66, 1001),\n",
    "(101, \"Blender\", 43.23, 1098),\n",
    "(102, \"Treadmill\", 765.76, 1009),\n",
    "(103, \"TV\", 954.33, 1045),\n",
    "(104, \"TV\", 476.60, 1003),\n",
    "(105, \"Lamp\", 26.76, 1008),\n",
    "(106, \"Laptop\", 1300.34, 1098),\n",
    "(107, \"TV\", 675.55, 1011),\n",
    "(108, \"Treadmill\", 886.87, 1003),\n",
    "(109, \"Treadmill\", 1987.54, 1055);"
   ]
  },
  {
   "cell_type": "markdown",
   "id": "d705e15f-d434-46f8-aa4b-e43192f8c6aa",
   "metadata": {},
   "source": [
    "****"
   ]
  },
  {
   "cell_type": "markdown",
   "id": "fabac86c-95b6-4747-a4f9-b1c69a7537b5",
   "metadata": {},
   "source": [
    "#### 8. Insert the following data into the “customers” table."
   ]
  },
  {
   "cell_type": "code",
   "execution_count": 6,
   "id": "df6a9711-bdfc-4ea9-8719-6542341c1d0d",
   "metadata": {},
   "outputs": [
    {
     "data": {
      "text/html": [
       "<span style=\"None\">Running query in &#x27;sqlite:///opan6608_assignment2.db&#x27;</span>"
      ],
      "text/plain": [
       "Running query in 'sqlite:///opan6608_assignment2.db'"
      ]
     },
     "metadata": {},
     "output_type": "display_data"
    },
    {
     "data": {
      "text/html": [
       "<span style=\"color: green\">10 rows affected.</span>"
      ],
      "text/plain": [
       "10 rows affected."
      ]
     },
     "metadata": {},
     "output_type": "display_data"
    },
    {
     "data": {
      "text/html": [
       "<table>\n",
       "    <thead>\n",
       "        <tr>\n",
       "        </tr>\n",
       "    </thead>\n",
       "    <tbody>\n",
       "    </tbody>\n",
       "</table>"
      ],
      "text/plain": [
       "++\n",
       "||\n",
       "++\n",
       "++"
      ]
     },
     "execution_count": 6,
     "metadata": {},
     "output_type": "execute_result"
    }
   ],
   "source": [
    "%%sql\n",
    "\n",
    "INSERT INTO customers(customer_id, signup_year, country, age)\n",
    "VALUES\n",
    "(1000, 2004, \"USA\", 63),\n",
    "(1001, 2008, \"FR\", 44),\n",
    "(1002, 2010, \"UK\", 76),\n",
    "(1003, 2018, \"FR\", 28),\n",
    "(1004, 2001, \"FR\", 71),\n",
    "(1005, 2015, \"USA\", 25),\n",
    "(1006, 2017, \"USA\", 58),\n",
    "(1007, 2009, \"USA\", 51),\n",
    "(1008, 2020, \"UK\", 48),\n",
    "(1009, 2017, \"USA\", 42);"
   ]
  },
  {
   "cell_type": "markdown",
   "id": "2bdc1bb5-c403-4dae-8405-fbca0747055d",
   "metadata": {},
   "source": [
    "****"
   ]
  },
  {
   "cell_type": "markdown",
   "id": "4a690818-ef5b-49a1-80f3-fd0919dc35c3",
   "metadata": {},
   "source": [
    "#### 9. Write a query to pull all records and columns from the orders table."
   ]
  },
  {
   "cell_type": "code",
   "execution_count": 7,
   "id": "3b8476dc-c6af-45a7-9fad-f3a0d55c2df3",
   "metadata": {},
   "outputs": [
    {
     "data": {
      "text/html": [
       "<span style=\"None\">displaylimit: Value None will be treated as 0 (no limit)</span>"
      ],
      "text/plain": [
       "displaylimit: Value None will be treated as 0 (no limit)"
      ]
     },
     "metadata": {},
     "output_type": "display_data"
    }
   ],
   "source": [
    "%config SqlMagic.displaylimit = None"
   ]
  },
  {
   "cell_type": "code",
   "execution_count": 8,
   "id": "082c4b78-189c-46fc-ab2d-35487cca8f56",
   "metadata": {},
   "outputs": [
    {
     "data": {
      "text/html": [
       "<span style=\"None\">Running query in &#x27;sqlite:///opan6608_assignment2.db&#x27;</span>"
      ],
      "text/plain": [
       "Running query in 'sqlite:///opan6608_assignment2.db'"
      ]
     },
     "metadata": {},
     "output_type": "display_data"
    },
    {
     "data": {
      "text/html": [
       "<table>\n",
       "    <thead>\n",
       "        <tr>\n",
       "            <th>order_id</th>\n",
       "            <th>item_name</th>\n",
       "            <th>price</th>\n",
       "            <th>customer_id</th>\n",
       "        </tr>\n",
       "    </thead>\n",
       "    <tbody>\n",
       "        <tr>\n",
       "            <td>100</td>\n",
       "            <td>Blender</td>\n",
       "            <td>45.66</td>\n",
       "            <td>1001</td>\n",
       "        </tr>\n",
       "        <tr>\n",
       "            <td>101</td>\n",
       "            <td>Blender</td>\n",
       "            <td>43.23</td>\n",
       "            <td>1098</td>\n",
       "        </tr>\n",
       "        <tr>\n",
       "            <td>102</td>\n",
       "            <td>Treadmill</td>\n",
       "            <td>765.76</td>\n",
       "            <td>1009</td>\n",
       "        </tr>\n",
       "        <tr>\n",
       "            <td>103</td>\n",
       "            <td>TV</td>\n",
       "            <td>954.33</td>\n",
       "            <td>1045</td>\n",
       "        </tr>\n",
       "        <tr>\n",
       "            <td>104</td>\n",
       "            <td>TV</td>\n",
       "            <td>476.6</td>\n",
       "            <td>1003</td>\n",
       "        </tr>\n",
       "        <tr>\n",
       "            <td>105</td>\n",
       "            <td>Lamp</td>\n",
       "            <td>26.76</td>\n",
       "            <td>1008</td>\n",
       "        </tr>\n",
       "        <tr>\n",
       "            <td>106</td>\n",
       "            <td>Laptop</td>\n",
       "            <td>1300.34</td>\n",
       "            <td>1098</td>\n",
       "        </tr>\n",
       "        <tr>\n",
       "            <td>107</td>\n",
       "            <td>TV</td>\n",
       "            <td>675.55</td>\n",
       "            <td>1011</td>\n",
       "        </tr>\n",
       "        <tr>\n",
       "            <td>108</td>\n",
       "            <td>Treadmill</td>\n",
       "            <td>886.87</td>\n",
       "            <td>1003</td>\n",
       "        </tr>\n",
       "        <tr>\n",
       "            <td>109</td>\n",
       "            <td>Treadmill</td>\n",
       "            <td>1987.54</td>\n",
       "            <td>1055</td>\n",
       "        </tr>\n",
       "    </tbody>\n",
       "</table>"
      ],
      "text/plain": [
       "+----------+-----------+---------+-------------+\n",
       "| order_id | item_name |  price  | customer_id |\n",
       "+----------+-----------+---------+-------------+\n",
       "|   100    |  Blender  |  45.66  |     1001    |\n",
       "|   101    |  Blender  |  43.23  |     1098    |\n",
       "|   102    | Treadmill |  765.76 |     1009    |\n",
       "|   103    |     TV    |  954.33 |     1045    |\n",
       "|   104    |     TV    |  476.6  |     1003    |\n",
       "|   105    |    Lamp   |  26.76  |     1008    |\n",
       "|   106    |   Laptop  | 1300.34 |     1098    |\n",
       "|   107    |     TV    |  675.55 |     1011    |\n",
       "|   108    | Treadmill |  886.87 |     1003    |\n",
       "|   109    | Treadmill | 1987.54 |     1055    |\n",
       "+----------+-----------+---------+-------------+"
      ]
     },
     "execution_count": 8,
     "metadata": {},
     "output_type": "execute_result"
    }
   ],
   "source": [
    "%%sql \n",
    "\n",
    "SELECT *\n",
    "FROM orders;"
   ]
  },
  {
   "cell_type": "markdown",
   "id": "c01b2cc2-ab5d-4d8e-9435-c0952a282285",
   "metadata": {},
   "source": [
    "****"
   ]
  },
  {
   "cell_type": "markdown",
   "id": "b825be51-b9f3-43dd-98cf-64ab3b2b7491",
   "metadata": {},
   "source": [
    "#### 10. Write a query to pull all records and columns from the orders table but limit the output to the first four records."
   ]
  },
  {
   "cell_type": "code",
   "execution_count": 9,
   "id": "d95a3fe3-f020-4eab-b40f-3b53369eedb8",
   "metadata": {},
   "outputs": [
    {
     "data": {
      "text/html": [
       "<span style=\"None\">Running query in &#x27;sqlite:///opan6608_assignment2.db&#x27;</span>"
      ],
      "text/plain": [
       "Running query in 'sqlite:///opan6608_assignment2.db'"
      ]
     },
     "metadata": {},
     "output_type": "display_data"
    },
    {
     "data": {
      "text/html": [
       "<table>\n",
       "    <thead>\n",
       "        <tr>\n",
       "            <th>order_id</th>\n",
       "            <th>item_name</th>\n",
       "            <th>price</th>\n",
       "            <th>customer_id</th>\n",
       "        </tr>\n",
       "    </thead>\n",
       "    <tbody>\n",
       "        <tr>\n",
       "            <td>100</td>\n",
       "            <td>Blender</td>\n",
       "            <td>45.66</td>\n",
       "            <td>1001</td>\n",
       "        </tr>\n",
       "        <tr>\n",
       "            <td>101</td>\n",
       "            <td>Blender</td>\n",
       "            <td>43.23</td>\n",
       "            <td>1098</td>\n",
       "        </tr>\n",
       "        <tr>\n",
       "            <td>102</td>\n",
       "            <td>Treadmill</td>\n",
       "            <td>765.76</td>\n",
       "            <td>1009</td>\n",
       "        </tr>\n",
       "        <tr>\n",
       "            <td>103</td>\n",
       "            <td>TV</td>\n",
       "            <td>954.33</td>\n",
       "            <td>1045</td>\n",
       "        </tr>\n",
       "    </tbody>\n",
       "</table>"
      ],
      "text/plain": [
       "+----------+-----------+--------+-------------+\n",
       "| order_id | item_name | price  | customer_id |\n",
       "+----------+-----------+--------+-------------+\n",
       "|   100    |  Blender  | 45.66  |     1001    |\n",
       "|   101    |  Blender  | 43.23  |     1098    |\n",
       "|   102    | Treadmill | 765.76 |     1009    |\n",
       "|   103    |     TV    | 954.33 |     1045    |\n",
       "+----------+-----------+--------+-------------+"
      ]
     },
     "execution_count": 9,
     "metadata": {},
     "output_type": "execute_result"
    }
   ],
   "source": [
    "%%sql\n",
    "\n",
    "SELECT *\n",
    "FROM orders\n",
    "LIMIT 4;"
   ]
  },
  {
   "cell_type": "markdown",
   "id": "59bca59f-55b0-4794-8ec4-41772d66fdd1",
   "metadata": {},
   "source": [
    "****"
   ]
  },
  {
   "cell_type": "markdown",
   "id": "db1a970c-4a66-4319-9177-d5513649c02d",
   "metadata": {},
   "source": [
    "#### 11. Write a query to select the sign up year, country, and age columns and only records of customers located in the UK from the customers table."
   ]
  },
  {
   "cell_type": "code",
   "execution_count": 10,
   "id": "d64331e4-1185-41c5-b0c3-189644324aa0",
   "metadata": {},
   "outputs": [
    {
     "data": {
      "text/html": [
       "<span style=\"None\">Running query in &#x27;sqlite:///opan6608_assignment2.db&#x27;</span>"
      ],
      "text/plain": [
       "Running query in 'sqlite:///opan6608_assignment2.db'"
      ]
     },
     "metadata": {},
     "output_type": "display_data"
    },
    {
     "data": {
      "text/html": [
       "<table>\n",
       "    <thead>\n",
       "        <tr>\n",
       "            <th>signup_year</th>\n",
       "            <th>country</th>\n",
       "            <th>age</th>\n",
       "        </tr>\n",
       "    </thead>\n",
       "    <tbody>\n",
       "        <tr>\n",
       "            <td>2010</td>\n",
       "            <td>UK</td>\n",
       "            <td>76</td>\n",
       "        </tr>\n",
       "        <tr>\n",
       "            <td>2020</td>\n",
       "            <td>UK</td>\n",
       "            <td>48</td>\n",
       "        </tr>\n",
       "    </tbody>\n",
       "</table>"
      ],
      "text/plain": [
       "+-------------+---------+-----+\n",
       "| signup_year | country | age |\n",
       "+-------------+---------+-----+\n",
       "|     2010    |    UK   |  76 |\n",
       "|     2020    |    UK   |  48 |\n",
       "+-------------+---------+-----+"
      ]
     },
     "execution_count": 10,
     "metadata": {},
     "output_type": "execute_result"
    }
   ],
   "source": [
    "%%sql\n",
    "\n",
    "SELECT\n",
    "    signup_year,\n",
    "    country,\n",
    "    age\n",
    "FROM customers\n",
    "WHERE country = 'UK';"
   ]
  },
  {
   "cell_type": "markdown",
   "id": "25226bcf-4dc5-410c-9c2a-09cb8bd9e06d",
   "metadata": {},
   "source": [
    "****"
   ]
  },
  {
   "cell_type": "markdown",
   "id": "673551a0-fe4c-40f9-acb5-587dd61795c5",
   "metadata": {},
   "source": [
    "#### 12. What is the mean age of customers in the USA? Include the SQL code you used to get the answer."
   ]
  },
  {
   "cell_type": "code",
   "execution_count": 11,
   "id": "79f6926d-6d1d-4212-8038-4ae8297da299",
   "metadata": {},
   "outputs": [
    {
     "data": {
      "text/html": [
       "<span style=\"None\">Running query in &#x27;sqlite:///opan6608_assignment2.db&#x27;</span>"
      ],
      "text/plain": [
       "Running query in 'sqlite:///opan6608_assignment2.db'"
      ]
     },
     "metadata": {},
     "output_type": "display_data"
    },
    {
     "data": {
      "text/html": [
       "<table>\n",
       "    <thead>\n",
       "        <tr>\n",
       "            <th>mean_age</th>\n",
       "        </tr>\n",
       "    </thead>\n",
       "    <tbody>\n",
       "        <tr>\n",
       "            <td>47.8</td>\n",
       "        </tr>\n",
       "    </tbody>\n",
       "</table>"
      ],
      "text/plain": [
       "+----------+\n",
       "| mean_age |\n",
       "+----------+\n",
       "|   47.8   |\n",
       "+----------+"
      ]
     },
     "execution_count": 11,
     "metadata": {},
     "output_type": "execute_result"
    }
   ],
   "source": [
    "%%sql\n",
    "\n",
    "SELECT\n",
    "    AVG(age) AS mean_age\n",
    "FROM customers\n",
    "WHERE country = 'USA';"
   ]
  },
  {
   "cell_type": "markdown",
   "id": "bf05a6b9-179a-4687-b9a5-942424cd0c9c",
   "metadata": {},
   "source": [
    "****"
   ]
  },
  {
   "cell_type": "markdown",
   "id": "6ef08fb5-da94-49a7-9b8a-7fd1ba8d1d85",
   "metadata": {},
   "source": [
    "#### 13. Using the orders table, determine how many treadmills have been sold. Use an alias to rename the name of the result column to be “treadmills_sold.” Include the SQL code you used to get the answer."
   ]
  },
  {
   "cell_type": "code",
   "execution_count": 12,
   "id": "38bd8b7c-9a64-4e08-a48b-8034d8fc6c92",
   "metadata": {},
   "outputs": [
    {
     "data": {
      "text/html": [
       "<span style=\"None\">Running query in &#x27;sqlite:///opan6608_assignment2.db&#x27;</span>"
      ],
      "text/plain": [
       "Running query in 'sqlite:///opan6608_assignment2.db'"
      ]
     },
     "metadata": {},
     "output_type": "display_data"
    },
    {
     "data": {
      "text/html": [
       "<table>\n",
       "    <thead>\n",
       "        <tr>\n",
       "            <th>treadmills_sold</th>\n",
       "        </tr>\n",
       "    </thead>\n",
       "    <tbody>\n",
       "        <tr>\n",
       "            <td>3</td>\n",
       "        </tr>\n",
       "    </tbody>\n",
       "</table>"
      ],
      "text/plain": [
       "+-----------------+\n",
       "| treadmills_sold |\n",
       "+-----------------+\n",
       "|        3        |\n",
       "+-----------------+"
      ]
     },
     "execution_count": 12,
     "metadata": {},
     "output_type": "execute_result"
    }
   ],
   "source": [
    "%%sql\n",
    "\n",
    "SELECT\n",
    "    COUNT(*) as treadmills_sold\n",
    "FROM orders\n",
    "WHERE item_name = 'Treadmill';"
   ]
  },
  {
   "cell_type": "markdown",
   "id": "23613324-6884-40fb-a178-3e48c9748143",
   "metadata": {},
   "source": [
    "****"
   ]
  },
  {
   "cell_type": "markdown",
   "id": "b29d334c-7deb-4aa0-9317-bf629d31d52a",
   "metadata": {},
   "source": [
    "#### 14. How old is the youngest customer in the USA?"
   ]
  },
  {
   "cell_type": "code",
   "execution_count": 13,
   "id": "01a6849a-14f0-44df-98ee-89ef0edb0867",
   "metadata": {},
   "outputs": [
    {
     "data": {
      "text/html": [
       "<span style=\"None\">Running query in &#x27;sqlite:///opan6608_assignment2.db&#x27;</span>"
      ],
      "text/plain": [
       "Running query in 'sqlite:///opan6608_assignment2.db'"
      ]
     },
     "metadata": {},
     "output_type": "display_data"
    },
    {
     "data": {
      "text/html": [
       "<table>\n",
       "    <thead>\n",
       "        <tr>\n",
       "            <th>min_age</th>\n",
       "        </tr>\n",
       "    </thead>\n",
       "    <tbody>\n",
       "        <tr>\n",
       "            <td>25</td>\n",
       "        </tr>\n",
       "    </tbody>\n",
       "</table>"
      ],
      "text/plain": [
       "+---------+\n",
       "| min_age |\n",
       "+---------+\n",
       "|    25   |\n",
       "+---------+"
      ]
     },
     "execution_count": 13,
     "metadata": {},
     "output_type": "execute_result"
    }
   ],
   "source": [
    "%%sql\n",
    "\n",
    "SELECT MIN(age) as min_age\n",
    "FROM customers;"
   ]
  },
  {
   "cell_type": "markdown",
   "id": "912948e2-e87a-429e-879e-b071727164bc",
   "metadata": {},
   "source": [
    "****"
   ]
  },
  {
   "cell_type": "markdown",
   "id": "4d3dc9e2-833a-46aa-b8d2-6da68301f781",
   "metadata": {},
   "source": [
    "#### 15. What is the mean age of customers in each country? Include the SQL code you used to get the answer."
   ]
  },
  {
   "cell_type": "code",
   "execution_count": 14,
   "id": "f10d556f-0c8e-4fd8-9291-960f51e6c541",
   "metadata": {},
   "outputs": [
    {
     "data": {
      "text/html": [
       "<span style=\"None\">Running query in &#x27;sqlite:///opan6608_assignment2.db&#x27;</span>"
      ],
      "text/plain": [
       "Running query in 'sqlite:///opan6608_assignment2.db'"
      ]
     },
     "metadata": {},
     "output_type": "display_data"
    },
    {
     "data": {
      "text/html": [
       "<table>\n",
       "    <thead>\n",
       "        <tr>\n",
       "            <th>country</th>\n",
       "            <th>mean_age</th>\n",
       "        </tr>\n",
       "    </thead>\n",
       "    <tbody>\n",
       "        <tr>\n",
       "            <td>FR</td>\n",
       "            <td>47.666666666666664</td>\n",
       "        </tr>\n",
       "        <tr>\n",
       "            <td>UK</td>\n",
       "            <td>62.0</td>\n",
       "        </tr>\n",
       "        <tr>\n",
       "            <td>USA</td>\n",
       "            <td>47.8</td>\n",
       "        </tr>\n",
       "    </tbody>\n",
       "</table>"
      ],
      "text/plain": [
       "+---------+--------------------+\n",
       "| country |      mean_age      |\n",
       "+---------+--------------------+\n",
       "|    FR   | 47.666666666666664 |\n",
       "|    UK   |        62.0        |\n",
       "|   USA   |        47.8        |\n",
       "+---------+--------------------+"
      ]
     },
     "execution_count": 14,
     "metadata": {},
     "output_type": "execute_result"
    }
   ],
   "source": [
    "%%sql\n",
    "\n",
    "SELECT \n",
    "    country,\n",
    "    AVG(age) AS mean_age\n",
    "FROM customers\n",
    "GROUP BY country;"
   ]
  },
  {
   "cell_type": "markdown",
   "id": "bd0508ce-432d-4a6a-a4cc-d6067dcdfcd2",
   "metadata": {},
   "source": [
    "****"
   ]
  },
  {
   "cell_type": "markdown",
   "id": "2d2e3103-ffd6-4636-813e-faa3057163e5",
   "metadata": {},
   "source": [
    "#### 16. On average, what is the most expensive item purchased? Write a query to show the mean sale price of each item in the orders table and sort the results so the most expensive item is first and the least expensive item is last."
   ]
  },
  {
   "cell_type": "code",
   "execution_count": 15,
   "id": "aed89de1-71b8-467f-8772-a1e87f7af8f3",
   "metadata": {},
   "outputs": [
    {
     "data": {
      "text/html": [
       "<span style=\"None\">Running query in &#x27;sqlite:///opan6608_assignment2.db&#x27;</span>"
      ],
      "text/plain": [
       "Running query in 'sqlite:///opan6608_assignment2.db'"
      ]
     },
     "metadata": {},
     "output_type": "display_data"
    },
    {
     "data": {
      "text/html": [
       "<table>\n",
       "    <thead>\n",
       "        <tr>\n",
       "            <th>item_name</th>\n",
       "            <th>avg_price</th>\n",
       "        </tr>\n",
       "    </thead>\n",
       "    <tbody>\n",
       "        <tr>\n",
       "            <td>Laptop</td>\n",
       "            <td>1300.34</td>\n",
       "        </tr>\n",
       "        <tr>\n",
       "            <td>Treadmill</td>\n",
       "            <td>1213.39</td>\n",
       "        </tr>\n",
       "        <tr>\n",
       "            <td>TV</td>\n",
       "            <td>702.16</td>\n",
       "        </tr>\n",
       "        <tr>\n",
       "            <td>Blender</td>\n",
       "            <td>44.44499999999999</td>\n",
       "        </tr>\n",
       "        <tr>\n",
       "            <td>Lamp</td>\n",
       "            <td>26.76</td>\n",
       "        </tr>\n",
       "    </tbody>\n",
       "</table>"
      ],
      "text/plain": [
       "+-----------+-------------------+\n",
       "| item_name |     avg_price     |\n",
       "+-----------+-------------------+\n",
       "|   Laptop  |      1300.34      |\n",
       "| Treadmill |      1213.39      |\n",
       "|     TV    |       702.16      |\n",
       "|  Blender  | 44.44499999999999 |\n",
       "|    Lamp   |       26.76       |\n",
       "+-----------+-------------------+"
      ]
     },
     "execution_count": 15,
     "metadata": {},
     "output_type": "execute_result"
    }
   ],
   "source": [
    "%%sql\n",
    "\n",
    "SELECT\n",
    "    item_name,\n",
    "    AVG(price) AS avg_price\n",
    "FROM orders\n",
    "GROUP BY item_name\n",
    "ORDER BY avg_price DESC;"
   ]
  },
  {
   "cell_type": "markdown",
   "id": "ac4b6e39-4c07-4368-bedb-790da1ea286c",
   "metadata": {},
   "source": [
    "****"
   ]
  },
  {
   "cell_type": "markdown",
   "id": "d26c1f00-fb9a-4b6d-acd2-cce93085670e",
   "metadata": {},
   "source": [
    "#### 17. Alter the code you used for #17 to filter the results and keep only records that exceed 1000.00. Include the SQL code you used to get the answer."
   ]
  },
  {
   "cell_type": "code",
   "execution_count": 16,
   "id": "5e74c905-80e7-4fc1-9875-dbaac6709689",
   "metadata": {},
   "outputs": [
    {
     "data": {
      "text/html": [
       "<span style=\"None\">Running query in &#x27;sqlite:///opan6608_assignment2.db&#x27;</span>"
      ],
      "text/plain": [
       "Running query in 'sqlite:///opan6608_assignment2.db'"
      ]
     },
     "metadata": {},
     "output_type": "display_data"
    },
    {
     "data": {
      "text/html": [
       "<table>\n",
       "    <thead>\n",
       "        <tr>\n",
       "            <th>item_name</th>\n",
       "            <th>avg_price</th>\n",
       "        </tr>\n",
       "    </thead>\n",
       "    <tbody>\n",
       "        <tr>\n",
       "            <td>Laptop</td>\n",
       "            <td>1300.34</td>\n",
       "        </tr>\n",
       "        <tr>\n",
       "            <td>Treadmill</td>\n",
       "            <td>1213.39</td>\n",
       "        </tr>\n",
       "    </tbody>\n",
       "</table>"
      ],
      "text/plain": [
       "+-----------+-----------+\n",
       "| item_name | avg_price |\n",
       "+-----------+-----------+\n",
       "|   Laptop  |  1300.34  |\n",
       "| Treadmill |  1213.39  |\n",
       "+-----------+-----------+"
      ]
     },
     "execution_count": 16,
     "metadata": {},
     "output_type": "execute_result"
    }
   ],
   "source": [
    "%%sql\n",
    "\n",
    "SELECT\n",
    "    item_name,\n",
    "    AVG(price) AS avg_price\n",
    "FROM orders\n",
    "GROUP BY item_name\n",
    "HAVING avg_price > 1000\n",
    "ORDER BY avg_price DESC;"
   ]
  },
  {
   "cell_type": "markdown",
   "id": "4392f3f5-9647-4534-a57c-82817e537bc9",
   "metadata": {},
   "source": [
    "****"
   ]
  },
  {
   "cell_type": "markdown",
   "id": "54ab20b6-c475-43b3-b05d-4efc5fef17ff",
   "metadata": {},
   "source": [
    "#### 18. Write a query to return the item names and price from the orders table that start with the “T” or cost less than 100.00"
   ]
  },
  {
   "cell_type": "code",
   "execution_count": 17,
   "id": "fb4e9e63-71db-46e7-a443-897f870f81e0",
   "metadata": {},
   "outputs": [
    {
     "data": {
      "text/html": [
       "<span style=\"None\">Running query in &#x27;sqlite:///opan6608_assignment2.db&#x27;</span>"
      ],
      "text/plain": [
       "Running query in 'sqlite:///opan6608_assignment2.db'"
      ]
     },
     "metadata": {},
     "output_type": "display_data"
    },
    {
     "data": {
      "text/html": [
       "<table>\n",
       "    <thead>\n",
       "        <tr>\n",
       "            <th>item_name</th>\n",
       "            <th>price</th>\n",
       "        </tr>\n",
       "    </thead>\n",
       "    <tbody>\n",
       "        <tr>\n",
       "            <td>Blender</td>\n",
       "            <td>45.66</td>\n",
       "        </tr>\n",
       "        <tr>\n",
       "            <td>Blender</td>\n",
       "            <td>43.23</td>\n",
       "        </tr>\n",
       "        <tr>\n",
       "            <td>Treadmill</td>\n",
       "            <td>765.76</td>\n",
       "        </tr>\n",
       "        <tr>\n",
       "            <td>TV</td>\n",
       "            <td>954.33</td>\n",
       "        </tr>\n",
       "        <tr>\n",
       "            <td>TV</td>\n",
       "            <td>476.6</td>\n",
       "        </tr>\n",
       "        <tr>\n",
       "            <td>Lamp</td>\n",
       "            <td>26.76</td>\n",
       "        </tr>\n",
       "        <tr>\n",
       "            <td>TV</td>\n",
       "            <td>675.55</td>\n",
       "        </tr>\n",
       "        <tr>\n",
       "            <td>Treadmill</td>\n",
       "            <td>886.87</td>\n",
       "        </tr>\n",
       "        <tr>\n",
       "            <td>Treadmill</td>\n",
       "            <td>1987.54</td>\n",
       "        </tr>\n",
       "    </tbody>\n",
       "</table>"
      ],
      "text/plain": [
       "+-----------+---------+\n",
       "| item_name |  price  |\n",
       "+-----------+---------+\n",
       "|  Blender  |  45.66  |\n",
       "|  Blender  |  43.23  |\n",
       "| Treadmill |  765.76 |\n",
       "|     TV    |  954.33 |\n",
       "|     TV    |  476.6  |\n",
       "|    Lamp   |  26.76  |\n",
       "|     TV    |  675.55 |\n",
       "| Treadmill |  886.87 |\n",
       "| Treadmill | 1987.54 |\n",
       "+-----------+---------+"
      ]
     },
     "execution_count": 17,
     "metadata": {},
     "output_type": "execute_result"
    }
   ],
   "source": [
    "%%sql\n",
    "\n",
    "SELECT\n",
    "    item_name,\n",
    "    price\n",
    "FROM orders\n",
    "WHERE\n",
    "    item_name LIKE 'T%'\n",
    "    OR price < 100;"
   ]
  },
  {
   "cell_type": "markdown",
   "id": "06321b2d-7b0d-4e5f-905a-f479dedf56be",
   "metadata": {},
   "source": [
    "****"
   ]
  },
  {
   "cell_type": "markdown",
   "id": "d27b6b23-a177-4cc4-b0b0-903a9c262099",
   "metadata": {},
   "source": [
    "#### 19. What is the difference between WHERE and HAVING? Explain when to use one or the other."
   ]
  },
  {
   "cell_type": "markdown",
   "id": "cc7c7620-1784-475d-a39e-e23c5df16a2b",
   "metadata": {},
   "source": [
    "* `WHERE`: To filter before grouping/aggregating. This is used when you need to filter rows based conditions before any aggregating or grouping is done.\n",
    "* `HAVING`: To filter after grouping/aggregating. This is used when you need to filter groups based on aggregate conditions (e.g., SUM, AVG, COUNT).\n",
    "\n"
   ]
  },
  {
   "cell_type": "markdown",
   "id": "3d54b240-d131-416a-916b-35a51a1ed8fc",
   "metadata": {},
   "source": [
    "****"
   ]
  },
  {
   "cell_type": "markdown",
   "id": "ccaf8c56-4969-4823-95b6-21e7731191af",
   "metadata": {},
   "source": [
    "#### 20. We need to know more about the customers who purchased the items in the orders table. Write a join to join the orders table to the customers table. The results should show only customers who have made a purchase that is listed in the orders table and are listed in the customers table and the item_name they purchased. (Note that not all customer ids are listed in the customer table.)"
   ]
  },
  {
   "cell_type": "code",
   "execution_count": 18,
   "id": "9b14589c-3977-496b-9a6e-82d27dfa9704",
   "metadata": {},
   "outputs": [
    {
     "data": {
      "text/html": [
       "<span style=\"None\">Running query in &#x27;sqlite:///opan6608_assignment2.db&#x27;</span>"
      ],
      "text/plain": [
       "Running query in 'sqlite:///opan6608_assignment2.db'"
      ]
     },
     "metadata": {},
     "output_type": "display_data"
    },
    {
     "data": {
      "text/html": [
       "<table>\n",
       "    <thead>\n",
       "        <tr>\n",
       "            <th>customer_id</th>\n",
       "            <th>signup_year</th>\n",
       "            <th>country</th>\n",
       "            <th>age</th>\n",
       "            <th>item_name</th>\n",
       "        </tr>\n",
       "    </thead>\n",
       "    <tbody>\n",
       "        <tr>\n",
       "            <td>1001</td>\n",
       "            <td>2008</td>\n",
       "            <td>FR</td>\n",
       "            <td>44</td>\n",
       "            <td>Blender</td>\n",
       "        </tr>\n",
       "        <tr>\n",
       "            <td>1009</td>\n",
       "            <td>2017</td>\n",
       "            <td>USA</td>\n",
       "            <td>42</td>\n",
       "            <td>Treadmill</td>\n",
       "        </tr>\n",
       "        <tr>\n",
       "            <td>1003</td>\n",
       "            <td>2018</td>\n",
       "            <td>FR</td>\n",
       "            <td>28</td>\n",
       "            <td>TV</td>\n",
       "        </tr>\n",
       "        <tr>\n",
       "            <td>1008</td>\n",
       "            <td>2020</td>\n",
       "            <td>UK</td>\n",
       "            <td>48</td>\n",
       "            <td>Lamp</td>\n",
       "        </tr>\n",
       "        <tr>\n",
       "            <td>1003</td>\n",
       "            <td>2018</td>\n",
       "            <td>FR</td>\n",
       "            <td>28</td>\n",
       "            <td>Treadmill</td>\n",
       "        </tr>\n",
       "    </tbody>\n",
       "</table>"
      ],
      "text/plain": [
       "+-------------+-------------+---------+-----+-----------+\n",
       "| customer_id | signup_year | country | age | item_name |\n",
       "+-------------+-------------+---------+-----+-----------+\n",
       "|     1001    |     2008    |    FR   |  44 |  Blender  |\n",
       "|     1009    |     2017    |   USA   |  42 | Treadmill |\n",
       "|     1003    |     2018    |    FR   |  28 |     TV    |\n",
       "|     1008    |     2020    |    UK   |  48 |    Lamp   |\n",
       "|     1003    |     2018    |    FR   |  28 | Treadmill |\n",
       "+-------------+-------------+---------+-----+-----------+"
      ]
     },
     "execution_count": 18,
     "metadata": {},
     "output_type": "execute_result"
    }
   ],
   "source": [
    "%%sql\n",
    "\n",
    "SELECT \n",
    "    c.customer_id,\n",
    "    c.signup_year,\n",
    "    c.country,\n",
    "    c.age,\n",
    "    o.item_name\n",
    "FROM orders AS o\n",
    "INNER JOIN customers AS c\n",
    "ON o.customer_id = c.customer_id;"
   ]
  },
  {
   "cell_type": "markdown",
   "id": "0cbeced2-f223-470c-9646-2e35f5843515",
   "metadata": {},
   "source": [
    "****"
   ]
  },
  {
   "cell_type": "markdown",
   "id": "9f7c1cca-1676-4f86-8990-97c72541a628",
   "metadata": {},
   "source": [
    "#### 21. Alter the code you wrote in #21 to group the results by customer id from the customers table and count the number of orders for each customer made. Alias the result column as “num_orders” and sort the results so the customer with the most orders is the first row in the result. Which customer id has the most orders?"
   ]
  },
  {
   "cell_type": "code",
   "execution_count": 19,
   "id": "0efe5e07-a153-446a-b451-ce8d91599ae3",
   "metadata": {},
   "outputs": [
    {
     "data": {
      "text/html": [
       "<span style=\"None\">Running query in &#x27;sqlite:///opan6608_assignment2.db&#x27;</span>"
      ],
      "text/plain": [
       "Running query in 'sqlite:///opan6608_assignment2.db'"
      ]
     },
     "metadata": {},
     "output_type": "display_data"
    },
    {
     "data": {
      "text/html": [
       "<table>\n",
       "    <thead>\n",
       "        <tr>\n",
       "            <th>customer_id</th>\n",
       "            <th>signup_year</th>\n",
       "            <th>country</th>\n",
       "            <th>age</th>\n",
       "            <th>num_orders</th>\n",
       "        </tr>\n",
       "    </thead>\n",
       "    <tbody>\n",
       "        <tr>\n",
       "            <td>1003</td>\n",
       "            <td>2018</td>\n",
       "            <td>FR</td>\n",
       "            <td>28</td>\n",
       "            <td>2</td>\n",
       "        </tr>\n",
       "        <tr>\n",
       "            <td>1009</td>\n",
       "            <td>2017</td>\n",
       "            <td>USA</td>\n",
       "            <td>42</td>\n",
       "            <td>1</td>\n",
       "        </tr>\n",
       "        <tr>\n",
       "            <td>1008</td>\n",
       "            <td>2020</td>\n",
       "            <td>UK</td>\n",
       "            <td>48</td>\n",
       "            <td>1</td>\n",
       "        </tr>\n",
       "        <tr>\n",
       "            <td>1001</td>\n",
       "            <td>2008</td>\n",
       "            <td>FR</td>\n",
       "            <td>44</td>\n",
       "            <td>1</td>\n",
       "        </tr>\n",
       "    </tbody>\n",
       "</table>"
      ],
      "text/plain": [
       "+-------------+-------------+---------+-----+------------+\n",
       "| customer_id | signup_year | country | age | num_orders |\n",
       "+-------------+-------------+---------+-----+------------+\n",
       "|     1003    |     2018    |    FR   |  28 |     2      |\n",
       "|     1009    |     2017    |   USA   |  42 |     1      |\n",
       "|     1008    |     2020    |    UK   |  48 |     1      |\n",
       "|     1001    |     2008    |    FR   |  44 |     1      |\n",
       "+-------------+-------------+---------+-----+------------+"
      ]
     },
     "execution_count": 19,
     "metadata": {},
     "output_type": "execute_result"
    }
   ],
   "source": [
    "%%sql\n",
    "\n",
    "SELECT \n",
    "    c.customer_id,\n",
    "    c.signup_year,\n",
    "    c.country,\n",
    "    c.age,\n",
    "    COUNT(o.order_id) AS num_orders\n",
    "FROM orders AS o\n",
    "INNER JOIN customers AS c\n",
    "ON o.customer_id = c.customer_id\n",
    "GROUP BY c.customer_id\n",
    "ORDER BY num_orders DESC;"
   ]
  },
  {
   "cell_type": "markdown",
   "id": "6e0ae1e5-0e71-4b9d-b14e-adf4102686ca",
   "metadata": {},
   "source": [
    "****"
   ]
  },
  {
   "cell_type": "markdown",
   "id": "a44c014f-0528-4b8d-9bcb-ae2c1b83cef5",
   "metadata": {},
   "source": [
    "#### 22. What kind of join would we use if we wanted to keep all records in the orders table (left table) and join any matches between the orders table and the customers table (right table)?"
   ]
  },
  {
   "cell_type": "markdown",
   "id": "12125809-80d0-481b-a7b6-00510576bbb3",
   "metadata": {},
   "source": [
    "`LEFT JOIN`"
   ]
  },
  {
   "cell_type": "markdown",
   "id": "07f96450-e3cd-4d1b-8f95-26daa43a83f7",
   "metadata": {},
   "source": [
    "****"
   ]
  },
  {
   "cell_type": "markdown",
   "id": "942c7f64-ed5e-4fec-a7d0-a0a395b46c67",
   "metadata": {},
   "source": [
    "#### 23. What is the average age of customers in the customers table? Include the SQL code you used to get the answer."
   ]
  },
  {
   "cell_type": "code",
   "execution_count": 20,
   "id": "1c15cab5-d7e1-440e-aca2-e84aaa12a86c",
   "metadata": {},
   "outputs": [
    {
     "data": {
      "text/html": [
       "<span style=\"None\">Running query in &#x27;sqlite:///opan6608_assignment2.db&#x27;</span>"
      ],
      "text/plain": [
       "Running query in 'sqlite:///opan6608_assignment2.db'"
      ]
     },
     "metadata": {},
     "output_type": "display_data"
    },
    {
     "data": {
      "text/html": [
       "<table>\n",
       "    <thead>\n",
       "        <tr>\n",
       "            <th>Average Age</th>\n",
       "        </tr>\n",
       "    </thead>\n",
       "    <tbody>\n",
       "        <tr>\n",
       "            <td>50.6</td>\n",
       "        </tr>\n",
       "    </tbody>\n",
       "</table>"
      ],
      "text/plain": [
       "+-------------+\n",
       "| Average Age |\n",
       "+-------------+\n",
       "|     50.6    |\n",
       "+-------------+"
      ]
     },
     "execution_count": 20,
     "metadata": {},
     "output_type": "execute_result"
    }
   ],
   "source": [
    "%%sql\n",
    "\n",
    "SELECT\n",
    "    AVG(age) AS 'Average Age'\n",
    "FROM customers;"
   ]
  },
  {
   "cell_type": "markdown",
   "id": "4245ecc7-66e3-42f0-8c73-0df0a36d5160",
   "metadata": {},
   "source": [
    "****"
   ]
  },
  {
   "cell_type": "markdown",
   "id": "7f8ccf12-cb11-46d7-97d1-4069d1ff6447",
   "metadata": {},
   "source": [
    "#### 24. Write a subquery (i.e. nested query) to filter the customers table to keep only records that are less than the average age for all customers in the table."
   ]
  },
  {
   "cell_type": "code",
   "execution_count": 21,
   "id": "af619dcd-4cb6-4322-a61f-506c5b6030a2",
   "metadata": {},
   "outputs": [
    {
     "data": {
      "text/html": [
       "<span style=\"None\">Running query in &#x27;sqlite:///opan6608_assignment2.db&#x27;</span>"
      ],
      "text/plain": [
       "Running query in 'sqlite:///opan6608_assignment2.db'"
      ]
     },
     "metadata": {},
     "output_type": "display_data"
    },
    {
     "data": {
      "text/html": [
       "<table>\n",
       "    <thead>\n",
       "        <tr>\n",
       "            <th>customer_id</th>\n",
       "            <th>signup_year</th>\n",
       "            <th>country</th>\n",
       "            <th>age</th>\n",
       "        </tr>\n",
       "    </thead>\n",
       "    <tbody>\n",
       "        <tr>\n",
       "            <td>1001</td>\n",
       "            <td>2008</td>\n",
       "            <td>FR</td>\n",
       "            <td>44</td>\n",
       "        </tr>\n",
       "        <tr>\n",
       "            <td>1003</td>\n",
       "            <td>2018</td>\n",
       "            <td>FR</td>\n",
       "            <td>28</td>\n",
       "        </tr>\n",
       "        <tr>\n",
       "            <td>1005</td>\n",
       "            <td>2015</td>\n",
       "            <td>USA</td>\n",
       "            <td>25</td>\n",
       "        </tr>\n",
       "        <tr>\n",
       "            <td>1008</td>\n",
       "            <td>2020</td>\n",
       "            <td>UK</td>\n",
       "            <td>48</td>\n",
       "        </tr>\n",
       "        <tr>\n",
       "            <td>1009</td>\n",
       "            <td>2017</td>\n",
       "            <td>USA</td>\n",
       "            <td>42</td>\n",
       "        </tr>\n",
       "    </tbody>\n",
       "</table>"
      ],
      "text/plain": [
       "+-------------+-------------+---------+-----+\n",
       "| customer_id | signup_year | country | age |\n",
       "+-------------+-------------+---------+-----+\n",
       "|     1001    |     2008    |    FR   |  44 |\n",
       "|     1003    |     2018    |    FR   |  28 |\n",
       "|     1005    |     2015    |   USA   |  25 |\n",
       "|     1008    |     2020    |    UK   |  48 |\n",
       "|     1009    |     2017    |   USA   |  42 |\n",
       "+-------------+-------------+---------+-----+"
      ]
     },
     "execution_count": 21,
     "metadata": {},
     "output_type": "execute_result"
    }
   ],
   "source": [
    "%%sql\n",
    "\n",
    "SELECT *\n",
    "FROM customers\n",
    "WHERE age < (\n",
    "    SELECT AVG(age)\n",
    "    FROM customers);"
   ]
  },
  {
   "cell_type": "markdown",
   "id": "d755c393-8032-45d9-9647-179c6849268e",
   "metadata": {},
   "source": [
    "****"
   ]
  },
  {
   "cell_type": "markdown",
   "id": "34b8e655-bd93-4c5c-8fc0-60106c8e566f",
   "metadata": {},
   "source": [
    "#### 25. Return the country name and mean age for any countries' customers with a mean age greater than 60."
   ]
  },
  {
   "cell_type": "code",
   "execution_count": 22,
   "id": "6bfdbc28-b661-49b4-bb0d-7a3ff56efcae",
   "metadata": {},
   "outputs": [
    {
     "data": {
      "text/html": [
       "<span style=\"None\">Running query in &#x27;sqlite:///opan6608_assignment2.db&#x27;</span>"
      ],
      "text/plain": [
       "Running query in 'sqlite:///opan6608_assignment2.db'"
      ]
     },
     "metadata": {},
     "output_type": "display_data"
    },
    {
     "data": {
      "text/html": [
       "<table>\n",
       "    <thead>\n",
       "        <tr>\n",
       "            <th>country</th>\n",
       "            <th>mean_age</th>\n",
       "        </tr>\n",
       "    </thead>\n",
       "    <tbody>\n",
       "        <tr>\n",
       "            <td>UK</td>\n",
       "            <td>62.0</td>\n",
       "        </tr>\n",
       "    </tbody>\n",
       "</table>"
      ],
      "text/plain": [
       "+---------+----------+\n",
       "| country | mean_age |\n",
       "+---------+----------+\n",
       "|    UK   |   62.0   |\n",
       "+---------+----------+"
      ]
     },
     "execution_count": 22,
     "metadata": {},
     "output_type": "execute_result"
    }
   ],
   "source": [
    "%%sql\n",
    "\n",
    "SELECT \n",
    "    country,\n",
    "    AVG(age) AS mean_age\n",
    "FROM customers\n",
    "GROUP BY country\n",
    "HAVING mean_age > 60;"
   ]
  },
  {
   "cell_type": "markdown",
   "id": "7513905b-db1c-4b4d-94ce-c5e4d56ba1fa",
   "metadata": {},
   "source": [
    "****"
   ]
  }
 ],
 "metadata": {
  "kernelspec": {
   "display_name": "Python 3 (ipykernel)",
   "language": "python",
   "name": "python3"
  },
  "language_info": {
   "codemirror_mode": {
    "name": "ipython",
    "version": 3
   },
   "file_extension": ".py",
   "mimetype": "text/x-python",
   "name": "python",
   "nbconvert_exporter": "python",
   "pygments_lexer": "ipython3",
   "version": "3.12.7"
  }
 },
 "nbformat": 4,
 "nbformat_minor": 5
}
